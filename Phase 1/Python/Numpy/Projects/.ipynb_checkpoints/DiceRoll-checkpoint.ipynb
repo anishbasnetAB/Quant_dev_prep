{
 "cells": [
  {
   "cell_type": "code",
   "execution_count": null,
   "id": "1d08e16c-4a42-473f-870f-ed8586983cd0",
   "metadata": {},
   "outputs": [],
   "source": [
    "# Simulate rolling two dice 1,000 times using NumPy and analyze the results."
   ]
  },
  {
   "cell_type": "code",
   "execution_count": 5,
   "id": "c4bee7b6-7cf5-4e6b-b537-1dbac2df0b2a",
   "metadata": {},
   "outputs": [],
   "source": [
    "import numpy as np\n",
    "import matplotlib.pyplot as plt\n"
   ]
  },
  {
   "cell_type": "code",
   "execution_count": 22,
   "id": "9ec5cb9b-2949-42e6-a2f6-01fb6d19756e",
   "metadata": {},
   "outputs": [
    {
     "name": "stdout",
     "output_type": "stream",
     "text": [
      "[6 3 6 6 6 4 2 3 6 5 5 5 4 4 6 2 2 6 2 4 2 4 1 1 4 2 2 5 6 1 2 6 1 1 1 5 3\n",
      " 2 1 6 3 2 2 6 6 1 4 3 6 3 5 5 6 5 2 6 6 1 6 4 6 5 1 4 6 1 6 5 4 3 5 6 3 4\n",
      " 4 2 3 1 1 5 6 4 6 5 5 5 4 1 5 3 3 4 5 4 6 6 3 4 1 4 3 2 5 3 3 1 6 6 1 4 2\n",
      " 3 4 3 3 2 2 1 6 1 3 1 1 6 6 1 3 1 6 5 5 4 3 3 3 4 6 3 3 5 5 3 2 3 4 1 3 3\n",
      " 1 6 2 1 6 2 3 5 4 4 3 4 4 5 4 6 1 4 5 1 6 5 1 6 1 3 5 3 3 4 3 3 3 1 5 2 2\n",
      " 4 2 1 2 2 4 2 5 1 2 6 4 1 5 5 6 1 1 1 3 6 4 5 6 6 4 5 6 6 3 4 2 4 2 6 6 5\n",
      " 1 4 5 5 5 1 5 4 3 3 1 3 2 4 6 5 2 5 2 3 6 2 4 2 3 6 3 6 5 5 4 2 5 4 5 1 6\n",
      " 5 6 2 2 5 2 3 2 2 4 1 1 4 4 4 6 5 1 1 3 6 4 2 1 4 2 4 3 3 3 3 1 6 1 2 1 3\n",
      " 5 3 1 1 2 4 4 4 2 3 4 5 5 2 5 5 5 2 5 2 1 1 4 6 3 4 1 6 4 1 1 4 4 1 3 2 1\n",
      " 5 2 4 5 5 2 2 5 4 4 4 6 6 5 2 2 6 6 2 2 3 2 1 5 6 2 3 3 6 4 6 5 5 6 5 5 4\n",
      " 4 6 4 5 2 6 1 4 3 2 6 6 4 5 4 3 3 1 3 5 4 4 3 2 1 4 3 3 2 6 2 1 2 3 1 6 6\n",
      " 1 5 5 5 4 1 5 1 6 4 3 6 5 1 1 5 3 4 4 5 5 2 2 4 5 4 6 5 4 4 1 1 3 6 2 1 1\n",
      " 1 1 3 5 2 4 3 1 4 1 1 5 5 4 3 2 5 5 3 1 5 1 1 3 2 2 1 3 2 1 2 5 2 6 2 5 4\n",
      " 2 1 2 1 1 6 1 6 3 3 5 1 2 4 4 6 5 3 3 3 3 2 2 4 1 3 6 6 2 3 3 2 3 2 4 6 5\n",
      " 5 1 6 6 4 1 5 2 2 1 2 5 4 2 6 1 1 4 2 6 1 6 6 6 6 6 2 3 5 2 5 2 2 1 1 2 1\n",
      " 3 4 1 5 6 2 1 4 4 4 3 2 5 5 1 2 3 3 3 6 5 4 1 1 1 3 2 6 3 1 5 1 5 3 1 1 3\n",
      " 5 6 2 2 2 5 2 4 1 3 4 3 5 5 4 4 2 2 2 2 4 5 4 6 4 5 4 1 4 2 4 1 1 2 4 1 2\n",
      " 1 3 1 5 6 5 4 3 4 4 1 5 6 2 2 2 1 2 1 2 2 2 1 3 3 5 6 3 5 1 4 6 3 4 5 2 6\n",
      " 2 2 6 5 6 3 5 6 5 1 5 6 4 1 4 6 2 2 2 3 6 1 5 4 1 1 6 3 1 1 3 4 6 5 3 5 1\n",
      " 6 1 1 1 5 3 4 1 6 6 4 5 1 2 5 5 6 3 5 3 6 2 2 4 6 5 2 5 6 3 3 5 4 1 5 3 5\n",
      " 2 6 6 1 2 3 3 1 1 1 3 5 2 6 2 2 1 5 1 4 5 1 2 1 2 1 1 6 5 5 2 1 1 1 6 5 4\n",
      " 5 1 1 1 1 3 2 5 3 4 4 5 1 1 2 5 2 5 2 5 2 2 6 3 5 3 4 3 2 1 4 4 4 3 2 1 3\n",
      " 6 5 1 2 6 6 6 1 5 1 1 3 6 1 1 4 2 4 1 5 3 4 6 2 1 3 2 2 5 6 6 5 4 6 1 3 2\n",
      " 6 5 4 1 1 4 5 1 5 5 3 1 3 3 5 4 1 3 5 4 5 1 6 5 6 4 5 1 5 2 2 4 4 1 3 6 3\n",
      " 5 5 4 3 3 5 6 4 4 2 1 1 1 6 2 2 1 2 1 1 6 5 5 4 5 1 5 2 2 1 5 1 1 1 2 6 6\n",
      " 4 3 2 3 4 4 1 1 2 1 4 6 6 3 3 5 1 1 5 6 6 6 5 1 4 1 6 2 2 3 6 6 4 1 4 4 3\n",
      " 4 4 1 3 6 3 2 5 4 6 6 1 1 4 5 2 1 1 2 4 4 4 6 3 5 4 1 4 6 2 4 2 4 2 2 6 3\n",
      " 3]\n",
      "[6 6 6 4 1 6 6 4 4 4 3 3 6 3 4 6 1 4 6 6 6 4 2 4 4 2 4 1 3 6 4 5 5 4 6 2 1\n",
      " 4 6 4 2 1 1 4 3 3 6 2 5 1 6 1 1 4 4 6 6 4 6 5 6 3 5 2 1 3 2 6 3 3 6 3 1 4\n",
      " 2 3 4 4 5 3 3 6 1 3 3 6 5 6 6 2 6 5 3 5 1 6 3 1 1 4 2 2 1 6 5 3 5 4 3 4 2\n",
      " 6 5 5 3 5 5 6 4 3 4 4 2 6 5 5 3 4 4 1 6 4 3 3 3 4 4 2 2 1 1 1 3 1 3 5 1 2\n",
      " 5 3 4 2 1 1 4 6 6 1 6 1 4 4 2 2 6 1 4 6 6 6 2 5 3 5 4 6 5 1 5 6 4 2 4 2 2\n",
      " 6 4 6 6 3 5 6 1 1 3 4 1 2 4 3 6 5 1 3 4 5 4 1 4 6 2 1 2 2 3 1 1 6 5 6 1 6\n",
      " 2 1 6 3 1 5 6 4 6 5 6 2 6 4 5 1 4 1 2 6 4 6 1 6 4 2 3 5 5 2 3 6 2 1 5 5 1\n",
      " 2 1 1 4 6 6 4 3 6 3 2 5 4 1 4 3 1 2 4 5 3 4 5 6 1 5 6 1 3 2 3 5 1 6 5 2 4\n",
      " 4 6 3 6 4 5 1 6 4 5 2 3 3 1 3 2 1 5 5 1 1 1 5 1 5 5 3 2 5 2 1 1 3 3 6 1 5\n",
      " 1 5 3 2 3 3 5 1 5 5 4 3 5 5 2 2 4 4 6 1 2 1 6 6 3 4 6 4 1 2 5 2 4 5 1 4 1\n",
      " 4 1 3 3 3 6 2 1 1 4 5 2 1 5 4 3 3 4 1 3 5 5 2 3 5 4 3 5 2 5 4 6 1 6 5 3 5\n",
      " 2 3 3 3 3 5 6 4 3 6 1 5 5 4 1 4 5 4 3 1 1 4 4 1 6 2 3 5 3 1 4 1 2 5 6 4 1\n",
      " 3 4 2 5 4 3 1 1 6 5 1 1 4 3 3 4 2 3 6 3 4 3 4 3 2 4 6 6 4 3 5 1 5 5 6 3 2\n",
      " 5 4 1 1 3 5 3 5 1 6 3 4 4 4 5 5 5 6 3 4 1 5 6 1 2 3 3 6 1 5 1 4 5 2 2 6 5\n",
      " 1 3 4 2 2 5 4 2 2 1 4 4 3 5 2 3 3 6 4 6 5 2 3 3 2 4 3 1 4 1 3 1 1 6 3 1 5\n",
      " 1 1 4 6 3 5 1 6 2 4 1 4 2 1 4 5 3 6 4 6 6 4 5 2 4 5 4 1 6 4 1 1 2 2 1 5 6\n",
      " 1 6 3 3 6 3 6 2 2 4 3 3 3 3 2 2 6 6 3 3 4 6 6 3 3 3 4 5 3 1 3 5 1 6 1 2 5\n",
      " 5 1 6 4 6 2 6 1 1 5 4 4 6 1 1 5 3 3 3 4 5 2 6 5 6 4 5 4 5 5 2 1 2 1 4 6 5\n",
      " 3 3 4 1 2 6 3 4 4 4 3 6 1 3 4 6 1 1 3 2 1 2 5 4 5 3 4 3 6 6 3 2 6 5 5 5 6\n",
      " 6 4 2 4 1 6 2 1 1 2 6 1 2 5 2 4 2 6 4 4 5 6 3 4 1 4 4 3 2 1 3 2 1 6 6 6 6\n",
      " 2 3 5 6 5 4 4 4 6 5 3 2 6 3 6 4 2 4 1 1 1 3 1 2 5 1 6 5 5 1 3 5 6 6 3 3 2\n",
      " 6 2 3 3 1 6 2 6 6 2 5 3 5 1 5 4 4 4 5 1 3 5 2 2 6 6 1 3 6 5 1 2 4 1 4 1 3\n",
      " 4 5 6 3 4 4 2 6 2 2 6 4 4 1 4 3 2 1 2 4 4 1 2 2 6 6 2 1 1 4 1 1 1 1 5 1 5\n",
      " 5 4 5 6 5 4 4 2 6 5 4 4 5 2 1 4 6 4 6 1 3 1 2 6 1 5 2 5 2 5 1 3 5 4 4 6 6\n",
      " 4 4 1 5 4 5 5 2 6 6 1 2 3 4 5 2 2 4 3 3 6 5 1 2 4 4 1 6 1 3 5 1 5 4 6 4 3\n",
      " 5 6 4 2 4 2 5 2 4 5 3 3 3 2 3 4 5 2 2 1 5 1 1 5 3 2 4 1 4 5 4 5 5 3 3 1 2\n",
      " 5 5 5 4 4 3 2 2 3 2 3 1 4 2 3 3 5 5 6 2 5 3 6 5 4 2 4 3 4 5 2 5 4 5 5 4 4\n",
      " 1]\n"
     ]
    }
   ],
   "source": [
    " # for consistent results\n",
    "dice1 = np.random.randint(1,7,size=1000)\n",
    "print(dice1)\n",
    "dice2 = np.random.randint(1,7,size=1000)\n",
    "print(dice2)"
   ]
  },
  {
   "cell_type": "code",
   "execution_count": 23,
   "id": "41fb7427-9968-406e-8da2-98b0c3d98f7e",
   "metadata": {},
   "outputs": [
    {
     "name": "stdout",
     "output_type": "stream",
     "text": [
      "[12  9 12 10  7 10  8  7 10  9  8  8 10  7 10  8  3 10  8 10  8  8  3  5\n",
      "  8  4  6  6  9  7  6 11  6  5  7  7  4  6  7 10  5  3  3 10  9  4 10  5\n",
      " 11  4 11  6  7  9  6 12 12  5 12  9 12  8  6  6  7  4  8 11  7  6 11  9\n",
      "  4  8  6  5  7  5  6  8  9 10  7  8  8 11  9  7 11  5  9  9  8  9  7 12\n",
      "  6  5  2  8  5  4  6  9  8  4 11 10  4  8  4  9  9  8  6  7  7  7 10  4\n",
      "  7  5  3 12 11  6  6  5 10  6 11  8  6  6  6  8 10  5  5  6  6  4  5  4\n",
      "  7  6  4  5  6  9  6  3  7  3  7 11 10  5  9  5  8  9  6  8  7  5  9  7\n",
      " 12 11  3 11  4  8  9  9  8  5  8  9  7  3  9  4  4 10  6  7  8  5  9  8\n",
      "  6  2  5 10  5  3  9  8 12  6  2  4  7 11  8  6 10 12  6  6  8  8  6  5\n",
      "  3 10  7 12  7 11  3  5 11  8  6  6 11  8  9  8  7  5  8  8 11  6  6  6\n",
      "  4  9 10  8  5  8  7  8  6 11 10  7  7  8  7  5 10  6  7  7  7  3  6 11\n",
      "  8  7  5  8  7  3  6  8  5  8  9  6  3  5  8  9  8  7  7  5  7 10  4  6\n",
      "  5  6  6  7  7  7  3  7  9  9  4  7  6  9  5 10  6  8  6  8  8  3  8  7\n",
      "  6  7 10  3  2  2  9  7  8  9  4  8  9  3  2  5  7  4  9  3  6  6  7  7\n",
      "  7  8  5  7  6  9  9  8  9 11 10  4  4 10 10  8  3  5  3  7 11  9  6  9\n",
      "  7  7  6 11  7  9 11  6  9  5  8  7  7  8  5 12  3  5  4  6 11  8  5 10\n",
      "  8  6  6  5  4  8  9  9  5  5  6  8  6  8  4 11  6  7  3  9  6  9 11  3\n",
      "  8  8  8  7  6 11  5  9 10  4 11 10  5  2  9  8  8  7  6  6  6  6  5 11\n",
      "  6  9 10  7  5  5  2  5 11  8  5  2  4  5  5 10  6  7  4  2 10  6  2  6\n",
      "  9  7  6  6  7  8  9  4  9  4  5  6  4  6  7  9  6  4  7  6  7 11  8  8\n",
      "  6  7  5  3  2  4 11  4 11  4  9  8  5  6  8  9 11 10  9  6  7  4  7  8\n",
      "  5  3  6  9 12  3  8  4  6  8  4  6 12 10  6  4 10  8  6  6  9  4  4  2\n",
      "  6  9  7  7  8  4  4 10  6 12  6  8  9  9  8 10  5  4  9  3  8  3  3  7\n",
      "  4  3  6  4  5  5 11  9  7  2 10  6  8  4  6  7  6  5  7  6  9  7 12 11\n",
      "  8  6  3  5  8  6  7  9  5  6  2  7  5  2  6  9  6 12  5  5  8  8  8  6\n",
      "  3  7  7  6  8  8  6  6  8  8  5  5  8 11 10  9  7  8  8  6  7  3  7  6\n",
      "  2  8  5  3  7  6  4  7  9 12  7 10  4  5  9  5  9 12  3  3  7  4  5  4\n",
      "  6  7  4  7  8  9  9 11  7 10  6  6  7  5  5  9  8 11  5  5 10  6  8  9\n",
      "  8 10  9  5  8 12  5  4  8 12  3  3  5  5  7  3 10  8  6  4 10  6  7  7\n",
      "  6  6 12 10  8 10  7 12  5  3  5  6  9  6  2  7  8 10  6  3  7  7  9  8\n",
      "  9  9  7 11  8  5  8  7  9  6  8  8  4  6  7  5  7 11  9 11  4  9 11  7\n",
      "  7  7  7  5  7  6  6  7  8  9  8  6  3  9  2  5  6  4  3  3  7  2  7 11\n",
      " 10  6  5  6  7  7  9  8  6 11  3  4  4  2  9  4 11  9  6  9  8  6  2  7\n",
      "  9  6  9  7  6  5  7  8  5 11  9  5  6  8  6  5  6  8  4  6  2  6 10 10\n",
      "  7  5 10 10  8  7  7  3  7  7 10  2  5  7  4  5  3  9  7  5  8  4  7  9\n",
      "  4  3  6 10  7  6  5  7  6  4  7 11  9  9  7  6  8  9  3 11 10  7  5  8\n",
      "  5  6  8  7  7 11  5  8  2  8 11  7  9  7  6  7  7  3  7  9  5  7 12  9\n",
      "  9  9  5  8  7 10 11  6 10  8  2  3  4 10  7  4  3  6  4  4 12 10  6  6\n",
      "  9  5  6  8  3  4 10  2  6  5  8 10  9  9  9  6  5  8  6  6  3  6  6  7\n",
      "  9  9  5  6  9  6  3  7  7 11  7  6  6  7  3 10  3  6  8 10 11  9  4  7\n",
      "  5  5  9  9  6  7 10  6  4  7  7  8  9  2  5  6  8  5  6  6  8  6  9  7\n",
      " 12  8  9  6  5  7 10  7  6  7  8  7  7 10  7  4]\n"
     ]
    }
   ],
   "source": [
    "#sum of each dice roll. \n",
    "sums=dice1+dice2\n",
    "print(sums)"
   ]
  },
  {
   "cell_type": "code",
   "execution_count": 24,
   "id": "84cd0dae-e5d8-44f2-b53d-7a275c1a6a37",
   "metadata": {},
   "outputs": [
    {
     "name": "stdout",
     "output_type": "stream",
     "text": [
      "Sum 1 occurred 197 times\n",
      "Sum 2 occurred 167 times\n",
      "Sum 3 occurred 148 times\n",
      "Sum 4 occurred 163 times\n",
      "Sum 5 occurred 170 times\n",
      "Sum 6 occurred 155 times\n",
      "---------------\n",
      "Sum 1 occurred 174 times\n",
      "Sum 2 occurred 139 times\n",
      "Sum 3 occurred 165 times\n",
      "Sum 4 occurred 190 times\n",
      "Sum 5 occurred 167 times\n",
      "Sum 6 occurred 165 times\n",
      "---------------\n",
      "Sum 2 occurred 28 times\n",
      "Sum 3 occurred 59 times\n",
      "Sum 4 occurred 76 times\n",
      "Sum 5 occurred 110 times\n",
      "Sum 6 occurred 167 times\n",
      "Sum 7 occurred 158 times\n",
      "Sum 8 occurred 135 times\n",
      "Sum 9 occurred 115 times\n",
      "Sum 10 occurred 70 times\n",
      "Sum 11 occurred 55 times\n",
      "Sum 12 occurred 27 times\n"
     ]
    }
   ],
   "source": [
    "unique_sums, counts = np.unique(dice1, return_counts=True)\n",
    "for value, count in zip(unique_sums, counts):\n",
    "    print(f\"Sum {value} occurred {count} times\")\n",
    "print(\"---------------\")\n",
    "\n",
    "unique_sums, counts = np.unique(dice2, return_counts=True)\n",
    "for value, count in zip(unique_sums, counts):\n",
    "    print(f\"Sum {value} occurred {count} times\")\n",
    "print(\"---------------\")\n",
    "unique_sums, counts = np.unique(sums, return_counts=True)\n",
    "for value, count in zip(unique_sums, counts):\n",
    "    print(f\"Sum {value} occurred {count} times\")"
   ]
  },
  {
   "cell_type": "code",
   "execution_count": 25,
   "id": "5e12e6ac-0021-40eb-9b14-7e95fcbd3ae8",
   "metadata": {},
   "outputs": [
    {
     "data": {
      "image/png": "[encoded data removed]",
      "text/plain": [
       "<Figure size 640x480 with 1 Axes>"
      ]
     },
     "metadata": {},
     "output_type": "display_data"
    }
   ],
   "source": [
    "plt.bar(unique_sums, counts)\n",
    "\n",
    "plt.title(\"Frequencies of Dice Roll Sums\")\n",
    "plt.xlabel(\"Sum of Two Dice\")\n",
    "plt.ylabel(\"Frequency\")\n",
    "plt.grid(axis='y')\n",
    "\n",
    "plt.show()\n"
   ]
  },
  {
   "cell_type": "code",
   "execution_count": null,
   "id": "9b4938ca-8def-48fb-839d-ed96a96f405d",
   "metadata": {},
   "outputs": [],
   "source": []
  }
 ],
 "metadata": {
  "kernelspec": {
   "display_name": "Python 3 (ipykernel)",
   "language": "python",
   "name": "python3"
  },
  "language_info": {
   "codemirror_mode": {
    "name": "ipython",
    "version": 3
   },
   "file_extension": ".py",
   "mimetype": "text/x-python",
   "name": "python",
   "nbconvert_exporter": "python",
   "pygments_lexer": "ipython3",
   "version": "3.13.3"
  }
 },
 "nbformat": 4,
 "nbformat_minor": 5
}
