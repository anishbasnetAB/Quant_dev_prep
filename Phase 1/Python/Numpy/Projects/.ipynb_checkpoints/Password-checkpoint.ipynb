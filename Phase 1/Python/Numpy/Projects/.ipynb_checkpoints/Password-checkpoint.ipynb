{
 "cells": [
  {
   "cell_type": "code",
   "execution_count": null,
   "id": "ae0879c4-2e08-41bc-a11e-6f03f67102c8",
   "metadata": {},
   "outputs": [],
   "source": [
    "#  Project: \"Password Strength Analyzer & Generator\"\n",
    "# Objective:\n",
    "# Build a tool that:\n",
    "\n",
    "# Generates random passwords using NumPy and strings.\n",
    "\n",
    "# Analyzes password strength based on rules like length, diversity of characters, and entropy."
   ]
  }
 ],
 "metadata": {
  "kernelspec": {
   "display_name": "Python 3 (ipykernel)",
   "language": "python",
   "name": "python3"
  },
  "language_info": {
   "codemirror_mode": {
    "name": "ipython",
    "version": 3
   },
   "file_extension": ".py",
   "mimetype": "text/x-python",
   "name": "python",
   "nbconvert_exporter": "python",
   "pygments_lexer": "ipython3",
   "version": "3.13.3"
  }
 },
 "nbformat": 4,
 "nbformat_minor": 5
}
